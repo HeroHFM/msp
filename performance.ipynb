{
 "cells": [
  {
   "cell_type": "code",
   "execution_count": 1,
   "id": "f4147a12-6b8f-4114-8fa5-b103b58d578e",
   "metadata": {},
   "outputs": [],
   "source": [
    "%load_ext autoreload\n",
    "%autoreload 2"
   ]
  },
  {
   "cell_type": "code",
   "execution_count": 2,
   "id": "40414c48-d23e-49e6-94dc-bf59cbed2a8d",
   "metadata": {},
   "outputs": [],
   "source": [
    "import numpy as np\n",
    "from msp.msp import *\n",
    "gen = CGEngine.create_engine()"
   ]
  },
  {
   "cell_type": "markdown",
   "id": "97fedf11-c9e4-45bb-82c3-6d3daf387f1f",
   "metadata": {},
   "source": [
    "### Transpose"
   ]
  },
  {
   "cell_type": "code",
   "execution_count": 116,
   "id": "862a2c07-085c-4112-81be-147a05388104",
   "metadata": {},
   "outputs": [],
   "source": [
    "n = 256"
   ]
  },
  {
   "cell_type": "code",
   "execution_count": 105,
   "id": "ceaf8006-4ee9-47c7-b8be-4a1f757a26ed",
   "metadata": {},
   "outputs": [
    {
     "name": "stdout",
     "output_type": "stream",
     "text": [
      "2.78 s ± 55.1 ms per loop (mean ± std. dev. of 7 runs, 1 loop each)\n"
     ]
    }
   ],
   "source": [
    "%%timeit A, B = np.random.rand(n, n).astype(np.float32), np.zeros((n, n), dtype=np.float32)\n",
    "\n",
    "# Transpose Python\n",
    "def transpose_py1(array, out):\n",
    "    for i in range(n):\n",
    "        for j in range(i + 1, n):\n",
    "            out[i, j] = array[j, i]\n",
    "            out[j, i] = array[i, j]\n",
    "\n",
    "transpose_py1(A, B)"
   ]
  },
  {
   "cell_type": "code",
   "execution_count": 106,
   "id": "c4eaf6a0-bee3-4fd1-a80a-956ea2c93d7a",
   "metadata": {},
   "outputs": [
    {
     "name": "stdout",
     "output_type": "stream",
     "text": [
      "1.66 s ± 44 ms per loop (mean ± std. dev. of 7 runs, 1 loop each)\n"
     ]
    }
   ],
   "source": [
    "%%timeit A, B = np.random.rand(n, n).astype(np.float32).tolist(), np.zeros((n, n), dtype=np.float32).tolist()\n",
    "\n",
    "# Transpose Python\n",
    "def transpose_py2(array, out):\n",
    "    for i in range(n):\n",
    "        for j in range(i + 1, n):\n",
    "            out[i][j] = array[j][i]\n",
    "            out[j][i] = array[i][j]\n",
    "\n",
    "transpose_py2(A, B)"
   ]
  },
  {
   "cell_type": "code",
   "execution_count": 117,
   "id": "b83d3d8a-10e6-4064-aa42-7da4b7169c10",
   "metadata": {},
   "outputs": [
    {
     "name": "stdout",
     "output_type": "stream",
     "text": [
      "85 μs ± 114 ns per loop (mean ± std. dev. of 7 runs, 10,000 loops each)\n"
     ]
    }
   ],
   "source": [
    "%%timeit A, B = np.random.rand(n, n).astype(np.float32), np.zeros((n, n), dtype=np.float32)\n",
    "\n",
    "B = A.T.copy()"
   ]
  },
  {
   "cell_type": "code",
   "execution_count": 108,
   "id": "882ef1d0-e5b2-4f65-b90a-a086d9cfe112",
   "metadata": {},
   "outputs": [],
   "source": [
    "times = []"
   ]
  },
  {
   "cell_type": "code",
   "execution_count": 118,
   "id": "f2d28a49-ee22-4b91-aa5c-8136032e3e7a",
   "metadata": {},
   "outputs": [],
   "source": [
    "# Transpose MSP\n",
    "@gen.compile(env = globals(), debug = False, add_time = times)\n",
    "def transpose_msp(array : Float[n][n], out : Float[n][n], n : int) -> None:\n",
    "    i = 0\n",
    "    while i < n:\n",
    "        j = i + 1\n",
    "        while j < n:\n",
    "            out[i, j] = array[j, i]\n",
    "            out[j, i] = array[i, j]\n",
    "            j = j + 1\n",
    "        i = i + 1\n",
    "    return"
   ]
  },
  {
   "cell_type": "code",
   "execution_count": 119,
   "id": "9e978816-aa24-4be2-9e88-e0343e2da002",
   "metadata": {},
   "outputs": [
    {
     "name": "stdout",
     "output_type": "stream",
     "text": [
      "114 μs ± 175 ns per loop (mean ± std. dev. of 7 runs, 10,000 loops each)\n"
     ]
    }
   ],
   "source": [
    "%%timeit A, B = np.random.rand(n, n).astype(np.float32), np.zeros((n, n), dtype=np.float32)\n",
    "\n",
    "transpose_msp(A, B, n)"
   ]
  },
  {
   "cell_type": "code",
   "execution_count": 115,
   "id": "5061bc9a-6ecc-47f1-9df4-ad5f75b8a012",
   "metadata": {},
   "outputs": [
    {
     "name": "stdout",
     "output_type": "stream",
     "text": [
      "[9387930, 8404807, 8997959, 8647552, 8696604]\n"
     ]
    },
    {
     "data": {
      "text/plain": [
       "np.float64(8.8269704)"
      ]
     },
     "execution_count": 115,
     "metadata": {},
     "output_type": "execute_result"
    }
   ],
   "source": [
    "print(times)\n",
    "np.mean(times) * 1e-6"
   ]
  },
  {
   "cell_type": "markdown",
   "id": "e6d9560d-f447-41d4-bc8e-60b8e9a2f6e5",
   "metadata": {},
   "source": [
    "### "
   ]
  }
 ],
 "metadata": {
  "kernelspec": {
   "display_name": "Python 3 (ipykernel)",
   "language": "python",
   "name": "python3"
  },
  "language_info": {
   "codemirror_mode": {
    "name": "ipython",
    "version": 3
   },
   "file_extension": ".py",
   "mimetype": "text/x-python",
   "name": "python",
   "nbconvert_exporter": "python",
   "pygments_lexer": "ipython3",
   "version": "3.12.7"
  }
 },
 "nbformat": 4,
 "nbformat_minor": 5
}
